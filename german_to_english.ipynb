{
  "nbformat": 4,
  "nbformat_minor": 0,
  "metadata": {
    "colab": {
      "name": "german-to-english.ipynb",
      "provenance": [],
      "collapsed_sections": []
    },
    "kernelspec": {
      "name": "python3",
      "display_name": "Python 3"
    },
    "language_info": {
      "name": "python"
    }
  },
  "cells": [
    {
      "cell_type": "code",
      "execution_count": 1,
      "metadata": {
        "colab": {
          "base_uri": "https://localhost:8080/"
        },
        "id": "lt5Ili4WaKcO",
        "outputId": "b9161c26-0cb5-47c0-e2d2-5ea5161d8d09"
      },
      "outputs": [
        {
          "output_type": "stream",
          "name": "stdout",
          "text": [
            "[nltk_data] Downloading package punkt to /root/nltk_data...\n",
            "[nltk_data]   Unzipping tokenizers/punkt.zip.\n",
            "Reading training data from datasets/de_en_data/ ...\n",
            "Reading development data...\n",
            "Reading test data...\n",
            "Computing corpuse level BLEU score..\n",
            "Corpus BLEU: 11.03055167950373\n"
          ]
        }
      ],
      "source": [
        "from src.utils import get_data, compute_corpus_level_bleu_score\n",
        "from src.nmt_model import NMT\n",
        "\n",
        "model = NMT.load(\"bin/model_de_en_v0.bin\")\n",
        "\n",
        "data_path = \"datasets/de_en_data/\"\n",
        "(src_train_sents, tgt_train_sents,\n",
        "    src_dev_sents, tgt_dev_sents,\n",
        "    src_test_sents, tgt_test_sents) = get_data(data_path, \"de\")\n",
        "\n",
        "\n",
        "print(\"Computing corpuse level BLEU score..\")\n",
        "test_data = [src_test_sents, tgt_test_sents]\n",
        "bleu_score = compute_corpus_level_bleu_score(model, test_data)\n",
        "print('Corpus BLEU: {}'.format(bleu_score * 100))"
      ]
    },
    {
      "cell_type": "code",
      "source": [
        "src_sent = [\"Wo\", \"wohnst\", \"du\", \"?\"]\n",
        "gold_sent = [\"Where\", \"do\", \"you\", \"live\", \"?\"]\n",
        "tgt_sent = model.greedy_decoding(src_sent)\n",
        "\n",
        "print(src_sent)\n",
        "print(gold_sent)\n",
        "print(tgt_sent)"
      ],
      "metadata": {
        "colab": {
          "base_uri": "https://localhost:8080/"
        },
        "id": "BbgIFOimaxdE",
        "outputId": "2a724ef7-78ff-4bb9-b791-932de60a6adb"
      },
      "execution_count": 2,
      "outputs": [
        {
          "output_type": "stream",
          "name": "stdout",
          "text": [
            "['Wo', 'wohnst', 'du', '?']\n",
            "['Where', 'do', 'you', 'live', '?']\n",
            "['Where', 'are', 'you', '?']\n"
          ]
        }
      ]
    },
    {
      "cell_type": "code",
      "source": [
        "src_sent = [\"Warum\", \"hast\", \"du\", \"das\", \"gemacht\", \"?\"]\n",
        "gold_sent = [\"Why\", \"did\", \"you\", \"do\", \"that\", \"?\"]\n",
        "tgt_sent = model.greedy_decoding(src_sent)\n",
        "\n",
        "print(src_sent)\n",
        "print(gold_sent)\n",
        "print(tgt_sent)"
      ],
      "metadata": {
        "colab": {
          "base_uri": "https://localhost:8080/"
        },
        "id": "fyV2W7gAc3zb",
        "outputId": "5004c39e-e3ba-46cf-ea8e-c2e277c6e666"
      },
      "execution_count": 3,
      "outputs": [
        {
          "output_type": "stream",
          "name": "stdout",
          "text": [
            "['Warum', 'hast', 'du', 'das', 'gemacht', '?']\n",
            "['Why', 'did', 'you', 'do', 'that', '?']\n",
            "['Why', 'did', 'you', 'do', 'this', '?']\n"
          ]
        }
      ]
    }
  ]
}